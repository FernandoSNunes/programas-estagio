{
 "cells": [
  {
   "cell_type": "code",
   "execution_count": 43,
   "id": "significant-logistics",
   "metadata": {},
   "outputs": [
    {
     "name": "stdout",
     "output_type": "stream",
     "text": [
      "['Nov 24, 2021', '50,820.77']\n",
      "['Nov 23, 2021', '-']\n",
      "['Nov 22, 2021', '50,071.63']\n",
      "['Nov 21, 2021', '52,087.06']\n",
      "['Nov 20, 2021', '52,889.75']\n",
      "['Nov 19, 2021', '51,492.03']\n",
      "['Nov 18, 2021', '50,086.53']\n",
      "['Nov 17, 2021', '53,339.00']\n",
      "['Nov 16, 2021', '53,146.45']\n",
      "['Nov 15, 2021', '55,914.40']\n"
     ]
    }
   ],
   "source": [
    "from selenium import webdriver\n",
    "from selenium.webdriver.common.keys import Keys\n",
    "from selenium.webdriver.common.by import By\n",
    "from selenium import webdriver\n",
    "\n",
    "\n",
    "driver = webdriver.Edge ()\n",
    "driver.get(\"https://finance.yahoo.com/quote/BTC-EUR/history/\")\n",
    "#assert \"Python\" in driver.title\n",
    "table = driver.find_element(By.ID, \"mrt\\-node\\-Col1\\-1\\-HistoricalDataTable\")\n",
    "table = table.find_element(By.TAG_NAME, \"tbody\")\n",
    "\n",
    "lines = table.find_elements(By.TAG_NAME, \"tr\")\n",
    "#print (len (lines))\n",
    "\n",
    "for i in range(0,10):\n",
    "    line = []\n",
    "    reactid = lines[i].get_attribute(\"data-reactid\")\n",
    "    coluns_from_line = lines[i].find_elements(By.TAG_NAME, \"span\")\n",
    "    for item in coluns_from_line:\n",
    "        if int(item.get_attribute(\"data-reactid\")) == int(reactid) +2 or \\\n",
    "            int(item.get_attribute(\"data-reactid\")) == int(reactid)+10:\n",
    "            line.append(item.text)\n",
    "    if (len(coluns_from_line)==1): #no data from that day\n",
    "        line.append(\"no data\")\n",
    "    print (line)\n",
    "#assert \"No results found.\" not in driver.page_source\n",
    "driver.close()"
   ]
  },
  {
   "cell_type": "code",
   "execution_count": null,
   "id": "heard-cyprus",
   "metadata": {},
   "outputs": [],
   "source": []
  }
 ],
 "metadata": {
  "kernelspec": {
   "display_name": "Python 3",
   "language": "python",
   "name": "python3"
  },
  "language_info": {
   "codemirror_mode": {
    "name": "ipython",
    "version": 3
   },
   "file_extension": ".py",
   "mimetype": "text/x-python",
   "name": "python",
   "nbconvert_exporter": "python",
   "pygments_lexer": "ipython3",
   "version": "3.8.5"
  }
 },
 "nbformat": 4,
 "nbformat_minor": 5
}
